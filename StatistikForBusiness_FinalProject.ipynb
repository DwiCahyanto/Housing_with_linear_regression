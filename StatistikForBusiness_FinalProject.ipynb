{
 "cells": [
  {
   "attachments": {},
   "cell_type": "markdown",
   "metadata": {},
   "source": [
    "# STAT FOR BUSINESS"
   ]
  },
  {
   "attachments": {},
   "cell_type": "markdown",
   "metadata": {},
   "source": [
    "## Statistical Test"
   ]
  },
  {
   "attachments": {},
   "cell_type": "markdown",
   "metadata": {},
   "source": [
    "### Sample Size for Estimating Single Mean"
   ]
  },
  {
   "attachments": {},
   "cell_type": "markdown",
   "metadata": {},
   "source": [
    "**1. Based on Standard Error**\n",
    "$$\n",
    "n=\\left (\\frac{\\sigma}{\\text{SE}(\\bar{y})}  \\right )^2\n",
    "$$\n",
    "  - $n$ is sample size estimate\n",
    "  - $\\sigma$ is standard deviation of population\n",
    "  - $\\text{SE}(\\bar{y})$ is desired standard error"
   ]
  },
  {
   "cell_type": "code",
   "execution_count": 1,
   "metadata": {},
   "outputs": [],
   "source": [
    "def sample_size_single_mean_se(sigma, standard_error):\n",
    "    \n",
    "    # Calculate sample size\n",
    "    n = (sigma/standard_error)**2\n",
    "    \n",
    "    return n"
   ]
  },
  {
   "attachments": {},
   "cell_type": "markdown",
   "metadata": {},
   "source": [
    "**2. Based on Desired Power and Confidence Level**\n",
    "- Sample size for estimating single mean based on power, confidence level and effectsize\n",
    "$$\n",
    "n = \\frac{\\sigma^2 (z_{1-{\\frac{\\alpha}{2}}}+z_{1-\\beta})^2}{\\delta^2}\n",
    "$$\n",
    "  - $n$ is sample size estimate\n",
    "  - $\\sigma$ is standard deviation of population\n",
    "  - $\\delta$ is desired difference to the true population\n",
    "  - $z_{1-\\frac{\\alpha}{2}}$ represents z-value under desired significance level ($\\alpha$)\n",
    "  - $z_{1-\\beta}$ represents z-value under the desired power "
   ]
  },
  {
   "cell_type": "code",
   "execution_count": 2,
   "metadata": {},
   "outputs": [],
   "source": [
    "def sample_size_single_mean(alpha, beta, effect_size, sigma):\n",
    "    \n",
    "    # Calculate z-value\n",
    "    z_alpha = norm.ppf(1 - alpha/2)\n",
    "    z_beta = norm.ppf(1 - beta)\n",
    "    \n",
    "    # Calculate sample size\n",
    "    n = ( (sigma**2) * (z_alpha + z_beta)**2 ) / effect_size**2\n",
    "    \n",
    "    return n"
   ]
  },
  {
   "attachments": {},
   "cell_type": "markdown",
   "metadata": {},
   "source": [
    "### Sample Size for Estimating Difference between Two Means"
   ]
  },
  {
   "attachments": {},
   "cell_type": "markdown",
   "metadata": {},
   "source": [
    "**1. Based on Standard Error**\n",
    "\n",
    "$$\n",
    "n=\\left (\\frac{2\\sigma}{\\text{SE}(\\bar{y}_1-\\bar{y}_2)}  \\right )^2\n",
    "$$\n",
    "  - $n$ is sample size estimate\n",
    "  - $\\sigma$ is standard deviation of population\n",
    "  - $\\text{se}(\\bar{y}_1-\\bar{y}_2)$ is desired standard error of difference of two means\n"
   ]
  },
  {
   "cell_type": "code",
   "execution_count": 3,
   "metadata": {},
   "outputs": [],
   "source": [
    "def sample_size_diff_mean_se(sigma, standard_error):\n",
    "    \n",
    "    # Calculate sample size\n",
    "    n = ( (2 * sigma) / standard_error )**2\n",
    "    \n",
    "    return n"
   ]
  },
  {
   "attachments": {},
   "cell_type": "markdown",
   "metadata": {},
   "source": [
    "**2. Based on Desired Power and Confidence Level**\n",
    "$$\n",
    "n = \\frac{(2\\sigma(z_{1-{\\frac{\\alpha}{2}}}+z_{1-\\beta}))^2}{\\delta^2}\n",
    "$$\n",
    "  - $n$ is sample size estimate in two groups \n",
    "  - $\\sigma$ is standard deviation of population\n",
    "  - $\\delta$ is desired difference of two mean to be detected\n",
    "  - $z_{1-\\frac{\\alpha}{2}}$ represents z-value under desired significance level ($\\alpha$)\n",
    "  - $z_{1-\\beta}$ represents z-value under the desired power "
   ]
  },
  {
   "cell_type": "code",
   "execution_count": 4,
   "metadata": {},
   "outputs": [],
   "source": [
    "def sample_size_diff_mean(alpha, beta, effect_size, sigma):\n",
    "    \n",
    "    # Calculate z-value\n",
    "    z_alpha = norm.ppf(1 - alpha/2)\n",
    "    z_beta = norm.ppf(1 - beta)\n",
    "    \n",
    "    # Calculate sample size\n",
    "    n =  (2 * sigma * (z_alpha+z_beta))**2 / (effect_size**2)\n",
    "    \n",
    "    return n"
   ]
  },
  {
   "attachments": {},
   "cell_type": "markdown",
   "metadata": {},
   "source": [
    "## Dataset EDA"
   ]
  },
  {
   "cell_type": "code",
   "execution_count": 5,
   "metadata": {},
   "outputs": [],
   "source": [
    "import warnings\n",
    "warnings.simplefilter(\"ignore\")\n",
    "from scipy.stats import norm\n",
    "\n",
    "# load data\n",
    "import pandas as pd\n",
    "import numpy as np\n",
    "pd.set_option('display.max_columns', None)\n",
    "\n",
    "\n",
    "# visualization\n",
    "import matplotlib.pyplot as plt\n",
    "import seaborn as sns\n",
    "\n",
    "# modelling\n",
    "import statsmodels.formula.api as smf\n",
    "from scipy.special import expit, logit\n",
    "\n",
    "import warnings\n",
    "warnings.filterwarnings(\"ignore\")"
   ]
  },
  {
   "cell_type": "code",
   "execution_count": 6,
   "metadata": {},
   "outputs": [],
   "source": [
    "def print_coef_std_err(results):\n",
    "    \"\"\"\n",
    "    Function to combine estimated coefficients and standard error in one DataFrame\n",
    "    :param results: <statsmodels RegressionResultsWrapper> OLS regression results from \n",
    "    :return df: <pandas DataFrame> \n",
    "    \"\"\"\n",
    "    coef = results.params\n",
    "    std_err = results.bse\n",
    "    \n",
    "    df = pd.DataFrame(data = np.transpose([coef, std_err]), \n",
    "                      index = coef.index, \n",
    "                      columns=[\"coef\",\"std err\"])\n",
    "    return df"
   ]
  },
  {
   "cell_type": "code",
   "execution_count": 7,
   "metadata": {},
   "outputs": [],
   "source": [
    "house_pd = pd.read_excel(\"Real estate valuation data set.xlsx\")"
   ]
  },
  {
   "cell_type": "code",
   "execution_count": 8,
   "metadata": {},
   "outputs": [
    {
     "data": {
      "text/html": [
       "<div>\n",
       "<style scoped>\n",
       "    .dataframe tbody tr th:only-of-type {\n",
       "        vertical-align: middle;\n",
       "    }\n",
       "\n",
       "    .dataframe tbody tr th {\n",
       "        vertical-align: top;\n",
       "    }\n",
       "\n",
       "    .dataframe thead th {\n",
       "        text-align: right;\n",
       "    }\n",
       "</style>\n",
       "<table border=\"1\" class=\"dataframe\">\n",
       "  <thead>\n",
       "    <tr style=\"text-align: right;\">\n",
       "      <th></th>\n",
       "      <th>No</th>\n",
       "      <th>X1 transaction date</th>\n",
       "      <th>X2 house age</th>\n",
       "      <th>X3 distance to the nearest MRT station</th>\n",
       "      <th>X4 number of convenience stores</th>\n",
       "      <th>X5 latitude</th>\n",
       "      <th>X6 longitude</th>\n",
       "      <th>Y house price of unit area</th>\n",
       "    </tr>\n",
       "  </thead>\n",
       "  <tbody>\n",
       "    <tr>\n",
       "      <th>0</th>\n",
       "      <td>1</td>\n",
       "      <td>2012.916667</td>\n",
       "      <td>32.0</td>\n",
       "      <td>84.87882</td>\n",
       "      <td>10</td>\n",
       "      <td>24.98298</td>\n",
       "      <td>121.54024</td>\n",
       "      <td>37.9</td>\n",
       "    </tr>\n",
       "    <tr>\n",
       "      <th>1</th>\n",
       "      <td>2</td>\n",
       "      <td>2012.916667</td>\n",
       "      <td>19.5</td>\n",
       "      <td>306.59470</td>\n",
       "      <td>9</td>\n",
       "      <td>24.98034</td>\n",
       "      <td>121.53951</td>\n",
       "      <td>42.2</td>\n",
       "    </tr>\n",
       "    <tr>\n",
       "      <th>2</th>\n",
       "      <td>3</td>\n",
       "      <td>2013.583333</td>\n",
       "      <td>13.3</td>\n",
       "      <td>561.98450</td>\n",
       "      <td>5</td>\n",
       "      <td>24.98746</td>\n",
       "      <td>121.54391</td>\n",
       "      <td>47.3</td>\n",
       "    </tr>\n",
       "    <tr>\n",
       "      <th>3</th>\n",
       "      <td>4</td>\n",
       "      <td>2013.500000</td>\n",
       "      <td>13.3</td>\n",
       "      <td>561.98450</td>\n",
       "      <td>5</td>\n",
       "      <td>24.98746</td>\n",
       "      <td>121.54391</td>\n",
       "      <td>54.8</td>\n",
       "    </tr>\n",
       "    <tr>\n",
       "      <th>4</th>\n",
       "      <td>5</td>\n",
       "      <td>2012.833333</td>\n",
       "      <td>5.0</td>\n",
       "      <td>390.56840</td>\n",
       "      <td>5</td>\n",
       "      <td>24.97937</td>\n",
       "      <td>121.54245</td>\n",
       "      <td>43.1</td>\n",
       "    </tr>\n",
       "    <tr>\n",
       "      <th>...</th>\n",
       "      <td>...</td>\n",
       "      <td>...</td>\n",
       "      <td>...</td>\n",
       "      <td>...</td>\n",
       "      <td>...</td>\n",
       "      <td>...</td>\n",
       "      <td>...</td>\n",
       "      <td>...</td>\n",
       "    </tr>\n",
       "    <tr>\n",
       "      <th>409</th>\n",
       "      <td>410</td>\n",
       "      <td>2013.000000</td>\n",
       "      <td>13.7</td>\n",
       "      <td>4082.01500</td>\n",
       "      <td>0</td>\n",
       "      <td>24.94155</td>\n",
       "      <td>121.50381</td>\n",
       "      <td>15.4</td>\n",
       "    </tr>\n",
       "    <tr>\n",
       "      <th>410</th>\n",
       "      <td>411</td>\n",
       "      <td>2012.666667</td>\n",
       "      <td>5.6</td>\n",
       "      <td>90.45606</td>\n",
       "      <td>9</td>\n",
       "      <td>24.97433</td>\n",
       "      <td>121.54310</td>\n",
       "      <td>50.0</td>\n",
       "    </tr>\n",
       "    <tr>\n",
       "      <th>411</th>\n",
       "      <td>412</td>\n",
       "      <td>2013.250000</td>\n",
       "      <td>18.8</td>\n",
       "      <td>390.96960</td>\n",
       "      <td>7</td>\n",
       "      <td>24.97923</td>\n",
       "      <td>121.53986</td>\n",
       "      <td>40.6</td>\n",
       "    </tr>\n",
       "    <tr>\n",
       "      <th>412</th>\n",
       "      <td>413</td>\n",
       "      <td>2013.000000</td>\n",
       "      <td>8.1</td>\n",
       "      <td>104.81010</td>\n",
       "      <td>5</td>\n",
       "      <td>24.96674</td>\n",
       "      <td>121.54067</td>\n",
       "      <td>52.5</td>\n",
       "    </tr>\n",
       "    <tr>\n",
       "      <th>413</th>\n",
       "      <td>414</td>\n",
       "      <td>2013.500000</td>\n",
       "      <td>6.5</td>\n",
       "      <td>90.45606</td>\n",
       "      <td>9</td>\n",
       "      <td>24.97433</td>\n",
       "      <td>121.54310</td>\n",
       "      <td>63.9</td>\n",
       "    </tr>\n",
       "  </tbody>\n",
       "</table>\n",
       "<p>414 rows × 8 columns</p>\n",
       "</div>"
      ],
      "text/plain": [
       "      No  X1 transaction date  X2 house age  \\\n",
       "0      1          2012.916667          32.0   \n",
       "1      2          2012.916667          19.5   \n",
       "2      3          2013.583333          13.3   \n",
       "3      4          2013.500000          13.3   \n",
       "4      5          2012.833333           5.0   \n",
       "..   ...                  ...           ...   \n",
       "409  410          2013.000000          13.7   \n",
       "410  411          2012.666667           5.6   \n",
       "411  412          2013.250000          18.8   \n",
       "412  413          2013.000000           8.1   \n",
       "413  414          2013.500000           6.5   \n",
       "\n",
       "     X3 distance to the nearest MRT station  X4 number of convenience stores  \\\n",
       "0                                  84.87882                               10   \n",
       "1                                 306.59470                                9   \n",
       "2                                 561.98450                                5   \n",
       "3                                 561.98450                                5   \n",
       "4                                 390.56840                                5   \n",
       "..                                      ...                              ...   \n",
       "409                              4082.01500                                0   \n",
       "410                                90.45606                                9   \n",
       "411                               390.96960                                7   \n",
       "412                               104.81010                                5   \n",
       "413                                90.45606                                9   \n",
       "\n",
       "     X5 latitude  X6 longitude  Y house price of unit area  \n",
       "0       24.98298     121.54024                        37.9  \n",
       "1       24.98034     121.53951                        42.2  \n",
       "2       24.98746     121.54391                        47.3  \n",
       "3       24.98746     121.54391                        54.8  \n",
       "4       24.97937     121.54245                        43.1  \n",
       "..           ...           ...                         ...  \n",
       "409     24.94155     121.50381                        15.4  \n",
       "410     24.97433     121.54310                        50.0  \n",
       "411     24.97923     121.53986                        40.6  \n",
       "412     24.96674     121.54067                        52.5  \n",
       "413     24.97433     121.54310                        63.9  \n",
       "\n",
       "[414 rows x 8 columns]"
      ]
     },
     "execution_count": 8,
     "metadata": {},
     "output_type": "execute_result"
    }
   ],
   "source": [
    "house_pd"
   ]
  },
  {
   "cell_type": "code",
   "execution_count": 25,
   "metadata": {},
   "outputs": [
    {
     "data": {
      "text/plain": [
       "No                                         414.000000\n",
       "X1 transaction date                       2013.583333\n",
       "X2 house age                                43.800000\n",
       "X3 distance to the nearest MRT station    6488.021000\n",
       "X4 number of convenience stores             10.000000\n",
       "X5 latitude                                 25.014590\n",
       "X6 longitude                               121.566270\n",
       "Y house price of unit area                 117.500000\n",
       "LogDistance                                  8.777713\n",
       "LogPrice                                     4.766438\n",
       "dtype: float64"
      ]
     },
     "execution_count": 25,
     "metadata": {},
     "output_type": "execute_result"
    }
   ],
   "source": [
    "house_pd.max()"
   ]
  },
  {
   "cell_type": "code",
   "execution_count": 26,
   "metadata": {},
   "outputs": [
    {
     "data": {
      "text/plain": [
       "No                                           1.000000\n",
       "X1 transaction date                       2012.666667\n",
       "X2 house age                                 0.000000\n",
       "X3 distance to the nearest MRT station      23.382840\n",
       "X4 number of convenience stores              0.000000\n",
       "X5 latitude                                 24.932070\n",
       "X6 longitude                               121.473530\n",
       "Y house price of unit area                   7.600000\n",
       "LogDistance                                  3.152002\n",
       "LogPrice                                     2.028148\n",
       "dtype: float64"
      ]
     },
     "execution_count": 26,
     "metadata": {},
     "output_type": "execute_result"
    }
   ],
   "source": [
    "house_pd.min()"
   ]
  },
  {
   "cell_type": "code",
   "execution_count": 9,
   "metadata": {},
   "outputs": [
    {
     "data": {
      "image/png": "[encoded data removed]",
      "text/plain": [
       "<Figure size 432x288 with 1 Axes>"
      ]
     },
     "metadata": {
      "needs_background": "light"
     },
     "output_type": "display_data"
    }
   ],
   "source": [
    "x = house_pd['X3 distance to the nearest MRT station']\n",
    "y = house_pd['Y house price of unit area']\n",
    "\n",
    "# Plot the data\n",
    "plt.scatter(x, y, color = \"k\", marker=\".\")\n",
    "\n",
    "# Add a legend and labels\n",
    "\n",
    "plt.xlabel(\"distance\")\n",
    "plt.ylabel(\"price\")\n",
    "\n",
    "# Add a title and adjust the margins\n",
    "plt.title(\"Data\")\n",
    "\n",
    "# Show the plot\n",
    "plt.show()"
   ]
  },
  {
   "attachments": {},
   "cell_type": "markdown",
   "metadata": {},
   "source": [
    "- The scatterplot shows relationship betwen price and house price nearest mrt is not linear pattern\n",
    "- Price describe house price of unit area (10000 New Taiwan Dollar/Ping, where Ping is a local unit, 1 Ping = 3.3 meter squared)\n",
    "- To estimate their relationship in percentage difference, we can build the regression to estimate the value of price by appyling log on both price and distance"
   ]
  },
  {
   "cell_type": "code",
   "execution_count": 10,
   "metadata": {},
   "outputs": [
    {
     "data": {
      "text/plain": [
       "No                                        0\n",
       "X1 transaction date                       0\n",
       "X2 house age                              0\n",
       "X3 distance to the nearest MRT station    0\n",
       "X4 number of convenience stores           0\n",
       "X5 latitude                               0\n",
       "X6 longitude                              0\n",
       "Y house price of unit area                0\n",
       "dtype: int64"
      ]
     },
     "execution_count": 10,
     "metadata": {},
     "output_type": "execute_result"
    }
   ],
   "source": [
    "house_pd.isnull().sum()"
   ]
  },
  {
   "attachments": {},
   "cell_type": "markdown",
   "metadata": {},
   "source": [
    "- no null value in the dataset"
   ]
  },
  {
   "cell_type": "code",
   "execution_count": 11,
   "metadata": {},
   "outputs": [
    {
     "data": {
      "text/plain": [
       "0"
      ]
     },
     "execution_count": 11,
     "metadata": {},
     "output_type": "execute_result"
    }
   ],
   "source": [
    "house_pd.duplicated().sum()"
   ]
  },
  {
   "attachments": {},
   "cell_type": "markdown",
   "metadata": {},
   "source": [
    "- no duplicate value in dataset"
   ]
  },
  {
   "attachments": {},
   "cell_type": "markdown",
   "metadata": {},
   "source": [
    "## Log Transformation"
   ]
  },
  {
   "attachments": {},
   "cell_type": "markdown",
   "metadata": {},
   "source": [
    "Transform eacg variabel to their log scale before building the model"
   ]
  },
  {
   "cell_type": "code",
   "execution_count": 12,
   "metadata": {},
   "outputs": [],
   "source": [
    "house_pd[\"LogDistance\"] = np.log(house_pd[\"X3 distance to the nearest MRT station\"])\n",
    "house_pd[\"LogPrice\"] = np.log(house_pd[\"Y house price of unit area\"])"
   ]
  },
  {
   "attachments": {},
   "cell_type": "markdown",
   "metadata": {},
   "source": [
    "## Fit Linear Regression"
   ]
  },
  {
   "cell_type": "code",
   "execution_count": 13,
   "metadata": {},
   "outputs": [],
   "source": [
    "# Create OLS model object\n",
    "model = smf.ols(\"LogPrice ~ LogDistance\", house_pd)\n",
    "\n",
    "# Fit the model\n",
    "results = model.fit()\n",
    "\n",
    "# Extract the results (Coefficient and Standard Error) to DataFrame\n",
    "results_house = print_coef_std_err(results)"
   ]
  },
  {
   "cell_type": "code",
   "execution_count": 14,
   "metadata": {},
   "outputs": [
    {
     "data": {
      "text/plain": [
       "0.5789156055548643"
      ]
     },
     "execution_count": 14,
     "metadata": {},
     "output_type": "execute_result"
    }
   ],
   "source": [
    "results.rsquared"
   ]
  },
  {
   "cell_type": "code",
   "execution_count": 15,
   "metadata": {},
   "outputs": [
    {
     "name": "stderr",
     "output_type": "stream",
     "text": [
      "No artists with labels found to put in legend.  Note that artists whose label start with an underscore are ignored when legend() is called with no argument.\n"
     ]
    },
    {
     "data": {
      "image/png": "[encoded data removed]",
      "text/plain": [
       "<Figure size 432x288 with 1 Axes>"
      ]
     },
     "metadata": {
      "needs_background": "light"
     },
     "output_type": "display_data"
    }
   ],
   "source": [
    "predictor = \"LogDistance\"\n",
    "outcome = \"LogPrice\"\n",
    "data = house_pd.copy()\n",
    "\n",
    "# Plot the data\n",
    "plt.scatter(data[predictor], data[outcome], color = \"k\", marker=\".\")\n",
    "\n",
    "# Add a legend and labels\n",
    "plt.legend()\n",
    "plt.ylabel(\"log price\")\n",
    "plt.xlabel(\"log distance\")\n",
    "\n",
    "# Add a title and adjust the margins\n",
    "plt.title(\"Data after log transformation\")\n",
    "\n",
    "# Show the plot\n",
    "plt.show()"
   ]
  },
  {
   "cell_type": "code",
   "execution_count": 16,
   "metadata": {},
   "outputs": [
    {
     "data": {
      "image/png": "[encoded data removed]",
      "text/plain": [
       "<Figure size 432x288 with 1 Axes>"
      ]
     },
     "metadata": {
      "needs_background": "light"
     },
     "output_type": "display_data"
    }
   ],
   "source": [
    "predictor = \"LogDistance\"\n",
    "outcome = \"LogPrice\"\n",
    "data = house_pd.copy()\n",
    "results_ = results_house.copy()\n",
    "\n",
    "# Plot the data\n",
    "plt.scatter(data[predictor], data[outcome], color = \"k\", marker=\".\")\n",
    "\n",
    "# Calculate the fitted values\n",
    "a_hat = results_.loc[\"Intercept\"][\"coef\"]\n",
    "b_hat = results_.loc[predictor][\"coef\"]\n",
    "\n",
    "x_domain = np.linspace(np.min(data[predictor]), np.max(data[predictor]), len(data))\n",
    "\n",
    "fitted_values = a_hat + b_hat * x_domain\n",
    "\n",
    "# Plot the fitted line\n",
    "plt.plot(x_domain, fitted_values, label=\"Fitted line\", color = \"b\")\n",
    "\n",
    "# Add a legend and labels\n",
    "plt.legend()\n",
    "plt.ylabel(\"log price\")\n",
    "plt.xlabel(\"log distance\")\n",
    "\n",
    "# Add a title and adjust the margins\n",
    "plt.title(\"Data and fitted regression line\")\n",
    "\n",
    "# Show the plot\n",
    "plt.show()"
   ]
  },
  {
   "attachments": {},
   "cell_type": "markdown",
   "metadata": {},
   "source": [
    "After log transformation the data shows linear pattern in their log scales"
   ]
  },
  {
   "attachments": {},
   "cell_type": "markdown",
   "metadata": {},
   "source": [
    "## Coefficient Interpretation"
   ]
  },
  {
   "cell_type": "code",
   "execution_count": 17,
   "metadata": {},
   "outputs": [
    {
     "data": {
      "text/html": [
       "<div>\n",
       "<style scoped>\n",
       "    .dataframe tbody tr th:only-of-type {\n",
       "        vertical-align: middle;\n",
       "    }\n",
       "\n",
       "    .dataframe tbody tr th {\n",
       "        vertical-align: top;\n",
       "    }\n",
       "\n",
       "    .dataframe thead th {\n",
       "        text-align: right;\n",
       "    }\n",
       "</style>\n",
       "<table border=\"1\" class=\"dataframe\">\n",
       "  <thead>\n",
       "    <tr style=\"text-align: right;\">\n",
       "      <th></th>\n",
       "      <th>coef</th>\n",
       "      <th>std err</th>\n",
       "    </tr>\n",
       "  </thead>\n",
       "  <tbody>\n",
       "    <tr>\n",
       "      <th>Intercept</th>\n",
       "      <td>5.271317</td>\n",
       "      <td>0.072712</td>\n",
       "    </tr>\n",
       "    <tr>\n",
       "      <th>LogDistance</th>\n",
       "      <td>-0.266693</td>\n",
       "      <td>0.011206</td>\n",
       "    </tr>\n",
       "  </tbody>\n",
       "</table>\n",
       "</div>"
      ],
      "text/plain": [
       "                 coef   std err\n",
       "Intercept    5.271317  0.072712\n",
       "LogDistance -0.266693  0.011206"
      ]
     },
     "execution_count": 17,
     "metadata": {},
     "output_type": "execute_result"
    }
   ],
   "source": [
    "results_"
   ]
  },
  {
   "attachments": {},
   "cell_type": "markdown",
   "metadata": {},
   "source": [
    "$$\\text {LogPrice} = 5.27 - 0.26 \\times\\text {LogDistance}$$"
   ]
  },
  {
   "attachments": {},
   "cell_type": "markdown",
   "metadata": {},
   "source": [
    "The interpretation of coefficient of mrt distance:\n",
    "It means 1 positive difference in distance, correspond to 26 difference in 10,000 New Taiwan Dollar/Ping house price, 1 ping = 3.3 squared meter"
   ]
  },
  {
   "attachments": {},
   "cell_type": "markdown",
   "metadata": {},
   "source": [
    "- average ideal distance of house in nearest public transportation is 300 - 500"
   ]
  },
  {
   "cell_type": "code",
   "execution_count": 18,
   "metadata": {},
   "outputs": [
    {
     "data": {
      "text/html": [
       "<div>\n",
       "<style scoped>\n",
       "    .dataframe tbody tr th:only-of-type {\n",
       "        vertical-align: middle;\n",
       "    }\n",
       "\n",
       "    .dataframe tbody tr th {\n",
       "        vertical-align: top;\n",
       "    }\n",
       "\n",
       "    .dataframe thead th {\n",
       "        text-align: right;\n",
       "    }\n",
       "</style>\n",
       "<table border=\"1\" class=\"dataframe\">\n",
       "  <thead>\n",
       "    <tr style=\"text-align: right;\">\n",
       "      <th></th>\n",
       "      <th>distance</th>\n",
       "      <th>LogDistance</th>\n",
       "      <th>price_pred</th>\n",
       "    </tr>\n",
       "  </thead>\n",
       "  <tbody>\n",
       "    <tr>\n",
       "      <th>0</th>\n",
       "      <td>500.0</td>\n",
       "      <td>6.214608</td>\n",
       "      <td>3.613927</td>\n",
       "    </tr>\n",
       "    <tr>\n",
       "      <th>1</th>\n",
       "      <td>575.0</td>\n",
       "      <td>6.354370</td>\n",
       "      <td>3.576654</td>\n",
       "    </tr>\n",
       "  </tbody>\n",
       "</table>\n",
       "</div>"
      ],
      "text/plain": [
       "   distance  LogDistance  price_pred\n",
       "0     500.0     6.214608    3.613927\n",
       "1     575.0     6.354370    3.576654"
      ]
     },
     "execution_count": 18,
     "metadata": {},
     "output_type": "execute_result"
    }
   ],
   "source": [
    "# people walking distance for 30 minutes data form prediction to DataFrame\n",
    "distance1 = 500\n",
    "distance2 = distance1*1.15\n",
    "weight_list = np.array([distance1, distance2])\n",
    "prediction_result = pd.DataFrame(data = {\"distance\": weight_list})\n",
    "\n",
    "# calculate the log transform of each car's weight\n",
    "prediction_result[\"LogDistance\"] = np.log(prediction_result[\"distance\"])\n",
    "\n",
    "# prediction results\n",
    "prediction_result[\"price_pred\"] = results.predict(prediction_result[\"LogDistance\"])\n",
    "prediction_result"
   ]
  },
  {
   "cell_type": "code",
   "execution_count": 19,
   "metadata": {},
   "outputs": [
    {
     "data": {
      "text/plain": [
       "-0.037273475101204046"
      ]
     },
     "execution_count": 19,
     "metadata": {},
     "output_type": "execute_result"
    }
   ],
   "source": [
    "diff_distance = prediction_result[\"price_pred\"][1] - prediction_result[\"price_pred\"][0]\n",
    "diff_distance"
   ]
  },
  {
   "attachments": {},
   "cell_type": "markdown",
   "metadata": {},
   "source": [
    "- hasil prediksi regresi bahwa rumah dengan beda jarak 100 meter lebih jauh dari rata2 jarak ideal stasiun mrt memiliki harga lebih murah 112.72 Taiwan doollar / meter persegi"
   ]
  },
  {
   "attachments": {},
   "cell_type": "markdown",
   "metadata": {},
   "source": [
    "## Statistical Evaluation"
   ]
  },
  {
   "cell_type": "code",
   "execution_count": 20,
   "metadata": {},
   "outputs": [],
   "source": [
    "# Given\n",
    "standar_error = 0.1\n",
    "sigma = np.sqrt(results.mse_resid) # standard deviation of population (estimated from residual standard deviation of regression)"
   ]
  },
  {
   "cell_type": "code",
   "execution_count": 21,
   "metadata": {},
   "outputs": [
    {
     "name": "stdout",
     "output_type": "stream",
     "text": [
      "Number of total sample size needed    : 6.50\n"
     ]
    }
   ],
   "source": [
    "# then calculate the number of total sample size\n",
    "n =  sample_size_single_mean_se(sigma, standar_error)\n",
    "\n",
    "print(f\"Number of total sample size needed    : {n:.2f}\")"
   ]
  },
  {
   "cell_type": "code",
   "execution_count": 22,
   "metadata": {},
   "outputs": [],
   "source": [
    "# Given\n",
    "effect_size = 0.1                    # absolute desired effect_size\n",
    "conf = 0.95                        # confidence level\n",
    "power = 0.8                        # power\n",
    "sigma = np.sqrt(results.mse_resid) # standard deviation of population (estimated from residual standard deviation of regression)"
   ]
  },
  {
   "cell_type": "code",
   "execution_count": 23,
   "metadata": {},
   "outputs": [],
   "source": [
    "# calculate beta\n",
    "beta = 1 - power\n",
    "\n",
    "# calculate alpha\n",
    "alpha = 1 - conf"
   ]
  },
  {
   "cell_type": "code",
   "execution_count": 24,
   "metadata": {},
   "outputs": [
    {
     "name": "stdout",
     "output_type": "stream",
     "text": [
      "Number of sample size needed            : 51.03\n"
     ]
    }
   ],
   "source": [
    "# then calculate the number of sample size\n",
    "n =  sample_size_single_mean(alpha, beta, effect_size, sigma)\n",
    "\n",
    "print(f\"Number of sample size needed            : {n:.2f}\")"
   ]
  }
 ],
 "metadata": {
  "kernelspec": {
   "display_name": "base",
   "language": "python",
   "name": "python3"
  },
  "language_info": {
   "codemirror_mode": {
    "name": "ipython",
    "version": 3
   },
   "file_extension": ".py",
   "mimetype": "text/x-python",
   "name": "python",
   "nbconvert_exporter": "python",
   "pygments_lexer": "ipython3",
   "version": "3.9.12"
  },
  "orig_nbformat": 4,
  "vscode": {
   "interpreter": {
    "hash": "e136cc0e967b313c0cf5dec040d1f464de091cc2972c8f03ef25a39ba0a5adfe"
   }
  }
 },
 "nbformat": 4,
 "nbformat_minor": 2
}
